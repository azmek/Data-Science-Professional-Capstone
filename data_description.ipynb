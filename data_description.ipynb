{
 "cells": [
  {
   "cell_type": "markdown",
   "metadata": {},
   "source": [
    "# Capstone Project - The Battle of Neighborhoods "
   ]
  },
  {
   "cell_type": "markdown",
   "metadata": {},
   "source": [
    "# Coventry City Restaurant Choice"
   ]
  },
  {
   "cell_type": "markdown",
   "metadata": {},
   "source": [
    "**Description of the data**"
   ]
  },
  {
   "cell_type": "markdown",
   "metadata": {},
   "source": [
    "It is requested by the assignment to use Foursquare API, in this report I will use foursquare data to find restaurants in Coventry.\n",
    "•\tTo start and in Wikipedia, I found the list of postcodes for the City of Coventry and its surrounding areas, this will help segment the area.  https://en.wikipedia.org/wiki/CV_postcode_area\n",
    "•\tMany areas around the city use the postcode starting CV, however, in this study I will focus on the areas ( I called boroughs for lack of better terms) that are under the Coventry Council authority\n",
    "•\tI used this data to find the latitude and longitude \n",
    "•\tI also used Foursquare API to get the data about venues and restaurant of given area / borough in Coventry to show density of restaurants in them.\n"
   ]
  },
  {
   "cell_type": "markdown",
   "metadata": {},
   "source": [
    "After few steps in wrangling this data, it seems that it will not yield what we need, as it clustered the neighbourhoods by a postcode, which will cause us two issues:\n",
    "1)\tWe will have to do more work in separating the coverage into neighbourhoods \n",
    "2)\tWe will have to find a post code for each area within the areas provided\n"
   ]
  },
  {
   "cell_type": "markdown",
   "metadata": {},
   "source": [
    "Since this data was lacking, I started looking elsewhere, luckily I found UK-GeoJSON website that will not only give me the breakdown of Coventry areas but it also has the latitude and longitude as well as geometry, all I need to find now is the postcodes and merge it with the latest dataframe."
   ]
  },
  {
   "cell_type": "markdown",
   "metadata": {},
   "source": [
    "After cleaning the above data, we are left with 3 columns, neighbourhoods, latitude and longitude."
   ]
  },
  {
   "cell_type": "markdown",
   "metadata": {},
   "source": [
    "Next step was to get the postcodes,\n",
    "Using MapIt Uk, I used the neighbourhoods ids in a list, and called them from MapIt UK API and then saved the results into a json file\n",
    "I loaded the file in a dataframe and merged it with the first dataframe,\n",
    "We now have a dataframe with areas names, latitude, longitude ad postcodes\n"
   ]
  },
  {
   "cell_type": "code",
   "execution_count": null,
   "metadata": {},
   "outputs": [],
   "source": []
  }
 ],
 "metadata": {
  "kernelspec": {
   "display_name": "Python 3",
   "language": "python",
   "name": "python3"
  },
  "language_info": {
   "codemirror_mode": {
    "name": "ipython",
    "version": 3
   },
   "file_extension": ".py",
   "mimetype": "text/x-python",
   "name": "python",
   "nbconvert_exporter": "python",
   "pygments_lexer": "ipython3",
   "version": "3.8.5"
  }
 },
 "nbformat": 4,
 "nbformat_minor": 4
}
